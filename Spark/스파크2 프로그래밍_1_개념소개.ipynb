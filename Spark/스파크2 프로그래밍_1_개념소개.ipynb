{
 "cells": [
  {
   "cell_type": "markdown",
   "metadata": {},
   "source": [
    "# Spark 소개\n",
    "***\n",
    "## 빅데이터 솔루션\n",
    "***\n",
    "### 하둡 에코 시스템\n",
    "* 빅데이터를 처리하기 위한 다양한 솔루션이 등장. 이 중 핵심이 된 솔루션은 하둡.  \n",
    "* 빅데이터 플랫폼은 이 하둡을 중심 크게 수집/저장처리/데이터분석 및 기타 소프트웨어 등 다양한 컴포넌트의 조합으로 구성."
   ]
  },
  {
   "cell_type": "markdown",
   "metadata": {},
   "source": [
    "#### 데이터 수집 모듈\n",
    "* 플럼(Flume)\n",
    "* 카프카(Kafka)\n",
    "* 스쿱(SQOOP)"
   ]
  },
  {
   "cell_type": "markdown",
   "metadata": {},
   "source": [
    "#### 저장 및 처리\n",
    "* 하둡(Hadoop)\n",
    "* HBase\n",
    "* 하이브(Hive)\n",
    "* 스파크(Spark)"
   ]
  },
  {
   "cell_type": "markdown",
   "metadata": {},
   "source": [
    "### Spark\n",
    "* 스파크(Spark)는 하둡의 맵-리듀스 기반 분산 병렬 처리 한계로 인해 등장함.  \n",
    "하둡은 연산작업을 파일 시스템을 기반으로 수행해 메모리 기반 데이터 처리 방식에 비해 성능이 낮음.\n",
    "* 스파크는 이러한 하둡의 단점을 보완하고자 개발된 메모리 기반 분산처리 프레임 웍임.\n",
    "***\n",
    "#### RDD(Resilient Distributed Dataset)\n",
    "* 스파크에서 정의한 분산 데이터 모델, 내부 단위 데이터를 포함하고 있고 저장할 때 여러 서버에 나누어 저장  \n",
    "처리할 때 각 서버에 저장된 데이터를 동시에 병렬로 처리 가능.\n",
    "* RDD의 요소들은 파티션이라는 더 작은 단위로 나눌 수 있음. 이러한 분산 처리 과정에서 셔플링이 발생할 수 있음.\n",
    "* RDD의 R은 'Resilient'로 복구 능력을 의미, 분산처리의 한계인 일부 데이터 유실 등 장애를 극복하기 위한 개념.\n",
    "* RDD는 장애 시 복구를 위해 RDD를 생성하기 위한 작업이력을 모두 기록함.  \n",
    "만일 특정 파티션에서 장애가 발생되면 문제가 발생된 RDD를 생성하기 위한 작업만 다시 수행해 복구함. 따라서 한번 생성된 RDD는 바뀌지 않아야 함.\n",
    "* 이러한 RDD 사상으로 인해 Spark는 스칼라(Scala)라는 함수형 언어로 개발됨.\n"
   ]
  },
  {
   "cell_type": "markdown",
   "metadata": {},
   "source": [
    "#### Spark 연산\n",
    "* RDD를 생성하고 나면 다양한 연산을 통해 데이터 처리가 가능함.  \n",
    "연산은 크게 트랜스포메이션(Transformation)과 액션(Action)연산으로 나뉨.\n",
    "* 트랜스포메이션 연산 : RDD에 변형을 가해 새로운 RDD를 생성하는 연산,  \n",
    "기존의 RDD는 바뀌지 않은 채 변형된 값을 가진 새로운 RDD를 생성.\n",
    "* 액션 연산 : 결과로 RDD가 아닌 다른 값을 반환하거나 아예 반환하지 않는 연산.\n",
    "* 스파크 연산의 특징은 지연(Lazy) 실행 방식으로 RDD를 생성하는 트랜스포메이션 연산은 계보를 쌓아두다가  \n",
    "액션 연산이 호출 될 때 한꺼번에 실행됨.\n",
    "* 이로 인해 연산이 실행되기 전 최적화 후 실행될 수 있음.\n"
   ]
  },
  {
   "cell_type": "code",
   "execution_count": null,
   "metadata": {},
   "outputs": [],
   "source": []
  }
 ],
 "metadata": {
  "kernelspec": {
   "display_name": "Python 3",
   "language": "python",
   "name": "python3"
  },
  "language_info": {
   "codemirror_mode": {
    "name": "ipython",
    "version": 3
   },
   "file_extension": ".py",
   "mimetype": "text/x-python",
   "name": "python",
   "nbconvert_exporter": "python",
   "pygments_lexer": "ipython3",
   "version": "3.6.6"
  },
  "toc": {
   "base_numbering": 1,
   "nav_menu": {},
   "number_sections": true,
   "sideBar": true,
   "skip_h1_title": false,
   "title_cell": "Table of Contents",
   "title_sidebar": "Contents",
   "toc_cell": false,
   "toc_position": {},
   "toc_section_display": true,
   "toc_window_display": false
  }
 },
 "nbformat": 4,
 "nbformat_minor": 2
}
